{
 "cells": [
  {
   "cell_type": "code",
   "execution_count": null,
   "id": "2554c822",
   "metadata": {},
   "outputs": [],
   "source": [
    "import matplotlib.pyplot as plt\n",
    "from matplotlib.ticker import FormatStrFormatter\n",
    "import numpy as np\n",
    "from MH_MCMC_Gaussian import *\n",
    "import pandas as pd\n",
    "from simulate_2CM import *"
   ]
  },
  {
   "cell_type": "markdown",
   "id": "0952b5de",
   "metadata": {},
   "source": [
    "### An example"
   ]
  },
  {
   "cell_type": "code",
   "execution_count": null,
   "id": "2a833293",
   "metadata": {},
   "outputs": [],
   "source": [
    "x = 0.17 , 0.18, 0.1, 0.1, 0.05, 0 \n",
    "t, y = simulate_2CM(x)\n",
    "sigma = 1e-2\n",
    "y = y + np.random.normal(0, sigma, 61) # introduce gaussian noise\n",
    "plt.plot(t, y)\n",
    "plt.ylabel('Observations', fontsize=16)\n",
    "plt.xlabel('Time (minute)', fontsize=16)\n",
    "# plt.title('Noise level 2e-1', fontsize=16)\n",
    "# plt.savefig('/Users/golfgti/Desktop/kkk.png')"
   ]
  },
  {
   "cell_type": "code",
   "execution_count": null,
   "id": "2e26e26b",
   "metadata": {},
   "outputs": [],
   "source": [
    "# Settings\n",
    "num_samples = 1000000  # Total number of MCMC samples\n",
    "\n",
    "# Define parameter bounds (min, max) for each parameter\n",
    "param_bounds = [(0, 1), (0, 1), (0, 1), (0, 1), (0, 1), (1e-8, 0.2)]\n",
    "\n",
    "# Initial guess for the parameters, uniformly sampled within bounds\n",
    "initial_x = np.array([np.random.uniform(low, high) for low, high in param_bounds])\n",
    "initial_x[-1] = sigma\n",
    "\n",
    "# Run MH-MCMC\n",
    "proposal_std = [0.04, 0.04, 0.04, 0.04, 0.04, 0.0]  # Standard deviation of the proposal distribution (adjust as needed)\n",
    "target_acceptance = 0.44\n",
    "samples = metropolis_hastings(initial_x, y, num_samples, proposal_std, target_acceptance)"
   ]
  },
  {
   "cell_type": "code",
   "execution_count": null,
   "id": "8ada3c40",
   "metadata": {},
   "outputs": [],
   "source": [
    "# Show parameters estimates trace plots\n",
    "fig, ax = plt.subplots(6, 1, figsize=(8,12))\n",
    "fig.tight_layout()\n",
    "\n",
    "samples = np.array(samples)\n",
    "ax[0].plot(samples[:,0])\n",
    "ax[0].set_title('k1 trace', fontsize = 16)\n",
    "ax[1].plot(samples[:,1])\n",
    "ax[1].set_title('k2 trace', fontsize = 16)\n",
    "ax[2].plot(samples[:,2])\n",
    "ax[2].set_title('k3 trace', fontsize = 16)\n",
    "ax[3].plot(samples[:,3])\n",
    "ax[3].set_title('k4 trace', fontsize = 16)\n",
    "ax[4].plot(samples[:,4])\n",
    "ax[4].set_title('Vb trace', fontsize = 16)\n",
    "ax[5].plot(samples[:,5])\n",
    "ax[5].set_title('sigma trace', fontsize = 16)\n",
    "ax[5].set_xlabel('# steps', fontsize = 28)"
   ]
  },
  {
   "cell_type": "code",
   "execution_count": null,
   "id": "2143d0ff",
   "metadata": {},
   "outputs": [],
   "source": [
    "# Histogram\n",
    "burnin = 200000\n",
    "fig, ax = plt.subplots(1, 5, figsize=(15,3))\n",
    "fig.tight_layout()\n",
    "\n",
    "ax[0].hist(samples[burnin:, 0],40)\n",
    "ax[0].set_title('k1 \\n bias {:.4f}'.format(np.mean(samples[burnin:, 0])-x[0]), fontsize = 16)\n",
    "ax[0].axvline(x[0], color='red')\n",
    "ax[0].ticklabel_format(useOffset=False, style='plain')\n",
    "ax[1].hist(samples[burnin:, 1],40)\n",
    "ax[1].set_title('k2 \\n bias {:.4f}'.format(np.mean(samples[burnin:, 1])-x[1]), fontsize = 16)\n",
    "ax[1].axvline(x[1], color='red')\n",
    "ax[2].hist(samples[burnin:, 2],40)\n",
    "ax[2].set_title('k3 \\n bias {:.4f}'.format(np.mean(samples[burnin:, 2])-x[2]), fontsize = 16)\n",
    "ax[2].axvline(x[2], color='red')\n",
    "ax[3].hist(samples[burnin:, 3],40)\n",
    "ax[3].set_title('k4 \\n bias {:.4f}'.format(np.mean(samples[burnin:, 3])-x[3]), fontsize = 16)\n",
    "ax[3].axvline(x[3], color='red')\n",
    "ax[4].hist(samples[burnin:, 4],40)\n",
    "ax[4].set_title('Vb \\n bias {:.4f}'.format(np.mean(samples[burnin:, 4])-x[4]), fontsize = 16)\n",
    "ax[4].axvline(x[4], color='red')\n",
    "# fig.savefig('/Users/golfgti/Desktop/Presentation/MH-MCMC_noiselevel1_estimation.png',bbox_inches = 'tight')"
   ]
  },
  {
   "cell_type": "code",
   "execution_count": null,
   "id": "d856a541",
   "metadata": {},
   "outputs": [],
   "source": []
  }
 ],
 "metadata": {
  "kernelspec": {
   "display_name": "Python 3 (ipykernel)",
   "language": "python",
   "name": "python3"
  },
  "language_info": {
   "codemirror_mode": {
    "name": "ipython",
    "version": 3
   },
   "file_extension": ".py",
   "mimetype": "text/x-python",
   "name": "python",
   "nbconvert_exporter": "python",
   "pygments_lexer": "ipython3",
   "version": "3.11.5"
  }
 },
 "nbformat": 4,
 "nbformat_minor": 5
}
